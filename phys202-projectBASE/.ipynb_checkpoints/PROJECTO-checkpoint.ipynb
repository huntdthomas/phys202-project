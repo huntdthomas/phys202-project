{
 "cells": [
  {
   "cell_type": "code",
   "execution_count": 162,
   "metadata": {
    "collapsed": false
   },
   "outputs": [],
   "source": [
    "%matplotlib inline\n",
    "import matplotlib.pyplot as plt\n",
    "\n",
    "import pandas as pd\n",
    "import pymc as mc\n",
    "from matplotlib import animation\n",
    "\n",
    "import numpy as np\n",
    "import seaborn as sns\n",
    "from scipy.integrate import odeint\n",
    "from IPython.html.widgets import interact, fixed"
   ]
  },
  {
   "cell_type": "markdown",
   "metadata": {},
   "source": [
    "## Abstract"
   ]
  },
  {
   "cell_type": "markdown",
   "metadata": {},
   "source": [
    "This notebook contains a mathematical description of the collision of two galaxies, one with several orbiting stars, as described by classical mechanics. The motion will be plotted at several values of time starting from some set of initial conditions. The situations modelled will be as followd: one case of retrograde passage and one case of direct passage. To model these a set of differential equations is defined and solved using Python's \"odeint\" solver. The solutions are the position and velocities of the distrupting galaxy and stars, which are saved into an array. To verify the correctness of the solution, the energy is plotted as a function of time to ensure that energy is conserved. "
   ]
  },
  {
   "cell_type": "markdown",
   "metadata": {},
   "source": [
    "## Base Question"
   ]
  },
  {
   "cell_type": "markdown",
   "metadata": {},
   "source": [
    "The base question that this notebook explores is the mechanics of direct or retrograde passage of two massive point particles (galaxies). The difference between these two situations is the relative spin of the stars on the initial galaxy and the velocity of the disrupting galaxy. Retrograde passage is the case where the stars spin in a direction opposite to the motion of the disrupting galaxy, whilst direct passage has these velocities in the same orientation. In both cases the disrupting galaxy acts on the stars as well as the initial galaxy, disrupting their motions. The task is to plot the motion of all these bodies, and as a check, their energies. If energy is conserved, and the two galaxies are shown to interact, then it is concluded that the code accurately describes the interaction between two massie galaxies."
   ]
  },
  {
   "cell_type": "markdown",
   "metadata": {},
   "source": [
    "## Additional Questions"
   ]
  },
  {
   "cell_type": "markdown",
   "metadata": {},
   "source": [
    "Additionally, this notebook will explore specific cases of direct passage of a light mass disruptor in an elliptical orbit and, secondly, retrograde passage of heavy mass disruptor in a parabolic orbit."
   ]
  },
  {
   "cell_type": "markdown",
   "metadata": {},
   "source": [
    "## Equations of Motion"
   ]
  },
  {
   "cell_type": "markdown",
   "metadata": {},
   "source": [
    "$$ \\ddot{\\mathbf{r}} = -\\gamma \\left\\{ \\frac{M}{r^3}\\mathbf{r} -\\frac{S}{\\rho^3}\\boldsymbol{\\rho} + \\frac{S}{R^3}\\boldsymbol\\Re \\right\\} $$\n",
    "\n",
    "$$ \\ddot{\\boldsymbol\\Re} = -\\gamma \\frac{M+S}{R^3}\\boldsymbol\\Re$$"
   ]
  },
  {
   "cell_type": "markdown",
   "metadata": {},
   "source": [
    "where \n",
    "\n",
    "* $\\gamma$ is the Gravitational constant.\n",
    "* $M$ is the central mass of the main galaxy and $S$ is the central mass of the disrupting galaxy\n",
    "* $\\mathbf{r}$ is the radius vector from mass $M$ to massless point particle $m$, representing a single (massless) star in the outer disk of the main galaxy.\n",
    "* $\\boldsymbol\\Re$ is the radius vector from $M$ to $S$\n",
    "* $\\boldsymbol{\\rho} = \\boldsymbol{\\Re} - \\boldsymbol{r}$"
   ]
  },
  {
   "cell_type": "code",
   "execution_count": 163,
   "metadata": {
    "collapsed": false
   },
   "outputs": [],
   "source": [
    "gamma = 4.49933e4\n",
    "#4.302e-3\n",
    "# M and S are the masses of the central galaxy and disrupting galaxy\n",
    "M = 10\n",
    "S = 0.1\n",
    "\n",
    "# atol and rtol are the error tolerances for the odeint solver.\n",
    "atol,rtol = 1e-4,1e-4\n",
    "\n",
    "# N is the number of stars per shell to plot around the central galaxy.\n",
    "# shells is the number of shells to fill with stars.\n",
    "N = 10\n",
    "shells = 3\n",
    "\n",
    "# tmax is the maximum time the simulation will run to.\n",
    "# t is a numpy array with equally spaced values of time starting from 0 and enting at tmax.\n",
    "tmax = 7.5\n",
    "t = np.linspace(0,tmax,1000)"
   ]
  },
  {
   "cell_type": "markdown",
   "metadata": {},
   "source": [
    "Note that from the above equations of motion it is clear that the central galaxy is taken to be at rest and located at the origin. All motion is plotted as motion relative to this galaxy, and all positions are taken to be distances from this galaxy.\n",
    "\n",
    "The below cell defines the derivs function that will be used by odeint to solve the system. It returns an array of the time derivatives of position and velocity, in the x and y directions, for a single star and disrupting galaxy."
   ]
  },
  {
   "cell_type": "code",
   "execution_count": 164,
   "metadata": {
    "collapsed": false
   },
   "outputs": [],
   "source": [
    "def derivs(rvec,t):\n",
    "    \"\"\"\n",
    "    rvec = [x,dx,y,dy,X,dX,Y,dY]\n",
    "    \n",
    "    x:  x component of relative position of single star to central galaxy.\n",
    "    dx: x component of relative velocity of single star to central galaxy.\n",
    "    y:  y component of relative position of single star to central galaxy.\n",
    "    dy: y component of relative velocity of single star to central galaxy.\n",
    "    \n",
    "    X:  x component of relative position of disrupting galaxy to central galaxy.\n",
    "    dX: x component of relative velocity of disrupting galaxy to central galaxy.\n",
    "    Y:  y component of relative position of disrupting galaxy to central galaxy.\n",
    "    dY: y component of relative velocity of disrupting galaxy to central galaxy.\n",
    "    \"\"\"\n",
    "    \n",
    "    x = rvec[0]\n",
    "    y = rvec[2]\n",
    "    X = rvec[4]\n",
    "    Y = rvec[6]\n",
    "    \n",
    "    dx = rvec[1]\n",
    "    dy = rvec[3]\n",
    "    dX = rvec[5]\n",
    "    dY = rvec[7]\n",
    "    \n",
    "    \"\"\"\n",
    "    r: The radial distance from the single star to the central galaxy.\n",
    "    R: The radial distance from the central galaxy to the disrupting galaxy.\n",
    "    \"\"\"\n",
    "    r = np.sqrt(x**2 + y**2)\n",
    "    R = np.sqrt(X**2 + Y**2)\n",
    "    \n",
    "    \"\"\"\n",
    "    ddx,ddy: The x and y components of the radial acceleration of the single star, respectively.\n",
    "    ddX,ddY: The X and Y components of the radial acceleration of the disrupting galaxy, respectively.\n",
    "    \"\"\"\n",
    "    \n",
    "    ddx = -gamma*((M/(r**3))*x - (S/(np.sqrt((X-x)**2 + (Y-y)**2))**3)*(X-x) + (S/(R**3)*X))\n",
    "    ddy = -gamma*((M/(r**3))*y - (S/(np.sqrt((X-x)**2 + (Y-y)**2))**3)*(Y-y) + (S/(R**3)*Y))\n",
    "    \n",
    "    ddX = -gamma*((M+S)/(R**3))*X\n",
    "    ddY = -gamma*((M+S)/(R**3))*Y\n",
    "                  \n",
    "    return np.array([dx,ddx,dy,ddy,dX,ddX,dY,ddY])"
   ]
  },
  {
   "cell_type": "markdown",
   "metadata": {},
   "source": [
    "The below function, makeN(), makes N stars in circular orbits at a particular shell, and creates \"shells\" number of these. It then returns an array with individual entires of the form [x,dx,y,dy]. This final array will be the initial conditions for the stars and will have (N*shells) number of entries (corresponding to N*shells number of stars)."
   ]
  },
  {
   "cell_type": "markdown",
   "metadata": {},
   "source": [
    "## Velocity for a Circular Orbit"
   ]
  },
  {
   "cell_type": "markdown",
   "metadata": {},
   "source": [
    "$$ v = \\sqrt\\frac{\\gamma M}{r} $$\n",
    "\n",
    "$ \\gamma $ : The gravitational constant \n",
    "\n",
    "M : The mass of the central galaxy \n",
    "\n",
    "r : the radial distance of the star to the galaxy"
   ]
  },
  {
   "cell_type": "code",
   "execution_count": 165,
   "metadata": {
    "collapsed": false
   },
   "outputs": [],
   "source": [
    "def makeN():  \n",
    "    \"\"\"\n",
    "    r0: A base radius to start the stars at.\n",
    "    thetastep, theta: These are the step size, defined by number of stars, and angular position\n",
    "                    of the stars. Note how the stars are set up to have equally spaced angles.\n",
    "    ic: The array of initial conditions for the positions and velocities of the stars:\n",
    "            of the form [[x1,dx1,y1,dy1],[x2,dx2,y2,dy2]...[xf,dxf,yf,dyf]] for N*shells stars.\n",
    "    \"\"\"\n",
    "    r0 = 20   \n",
    "    thetastep = 2*np.pi/N\n",
    "    theta = np.arange(0,2*np.pi,thetastep)\n",
    "    \n",
    "    ic = []\n",
    "    for k in range(N):\n",
    "        s=np.sin(theta[k])\n",
    "        c=np.cos(theta[k])\n",
    "        for l in range(shells):\n",
    "            r = r0*((l+1)/2)\n",
    "            v = np.sqrt((gamma*M)/np.sqrt((r*s)**2 + (r*c)**2))\n",
    "            newic = [r*s,v*c,r*c,-v*s]\n",
    "            ic.append(newic)\n",
    "    return ic"
   ]
  },
  {
   "cell_type": "markdown",
   "metadata": {},
   "source": [
    "Galaxy() creates the initial conditions for the disrupting galaxy and appends them onto the end of EACH INITIAL CONDITION from the stars of the previous ic. To clarify, the resulting ic array will be an array of N*shells number of entires of size 8. This final ic will have the form of rvec as previously defined in derivs: rvec = [x,dx,y,dy,X,dX,Y,dY]\n",
    "\n",
    "Note: for now the disrupting galaxy is set in a simple case of circular motion. General cases will be dealt with later."
   ]
  },
  {
   "cell_type": "code",
   "execution_count": 166,
   "metadata": {
    "collapsed": true
   },
   "outputs": [],
   "source": [
    "def Galaxy():\n",
    "    \"\"\"\n",
    "    X,Y: The relative X and Y positions of the disrupting galaxy to the central galaxy.\n",
    "    R: The relative distance of the disrupting galaxy to the central galaxy.\n",
    "    Vs: The velocity of the disrupting galaxy\n",
    "    Sinfo: The array of positions, velocities of the disrupting galaxy: [x,dx,y,dy]\n",
    "    \"\"\"\n",
    "    X,Y = 50,0\n",
    "    R = np.sqrt(X**2 + Y**2)  \n",
    "    #Vs=np.sqrt(2*gamma*(S+M)/R)\n",
    "    #Sinfo = [X,0,Y,-Vs]\n",
    "    \n",
    "    Vs = np.sqrt((gamma*(M+S))/np.sqrt((X**2)+(Y**2)))\n",
    "    Sinfo = [X,0,Y,Vs]\n",
    "    \n",
    "    # calls makeN() to pull the initial conditions for the stars to ic\n",
    "    ic = makeN()\n",
    "    # this for loop pulls open each array in ic (for each individual star) and appends to it the\n",
    "    # initial conditions for the galaxy S, Sinfo.\n",
    "    for i in ic:\n",
    "        for j in range(len(Sinfo)):\n",
    "            i.append(Sinfo[j])\n",
    "    ic = np.array(ic)\n",
    "    return ic"
   ]
  },
  {
   "cell_type": "markdown",
   "metadata": {},
   "source": [
    "get_solution returns the array of positions and velocities for all the stars and disrupting galaxy for the initial conditions given by ic."
   ]
  },
  {
   "cell_type": "code",
   "execution_count": 167,
   "metadata": {
    "collapsed": true
   },
   "outputs": [],
   "source": [
    "def get_solution():\n",
    "    ic = Galaxy()\n",
    "    x,dx,y,dy = [],[],[],[]\n",
    "    for k in range(N*shells):\n",
    "        soln = odeint(derivs,ic[k],t,atol=atol,rtol=rtol)\n",
    "        x.append(np.array([j[0] for j in soln]))\n",
    "        y.append(np.array([j[2] for j in soln]))     \n",
    "        dx.append(np.array([j[1] for j in soln]))\n",
    "        dy.append(np.array([j[3] for j in soln]))\n",
    "    \n",
    "    # note how the initial conditions for the disrupting galaxy can be defined for any iteration\n",
    "    # as you iterate through k, soln is left with the last value, but the Sinfo components are the same\n",
    "\n",
    "    X = np.array([j[4] for j in soln])\n",
    "    Y = np.array([j[6] for j in soln])  \n",
    "    dX = np.array([j[5] for j in soln])\n",
    "    dY = np.array([j[7] for j in soln])\n",
    "    \n",
    "    return x,dx,y,dy,X,dX,Y,dY"
   ]
  },
  {
   "cell_type": "markdown",
   "metadata": {},
   "source": [
    "plot_motion assigns the solution values and plots them at a specified value of time (denoted by the index i). i=0 is passed as a default parameter to start at t = 0. "
   ]
  },
  {
   "cell_type": "code",
   "execution_count": 168,
   "metadata": {
    "collapsed": false
   },
   "outputs": [],
   "source": [
    "def plot_motion(i=0):   \n",
    "    \n",
    "    x,dx,y,dy,X,dX,Y,dY = get_solution()\n",
    "    \n",
    "    plt.figure(figsize=(10,8))\n",
    "    plt.scatter(0,0,color='purple',label='C')\n",
    "    plt.scatter(X[i],Y[i],color='red',label='S')\n",
    "    \n",
    "    plt.title(\"Motion\")\n",
    "    plt.xlim(-0.3e3,0.3e3)\n",
    "    plt.ylim(-0.3e3,0.3e3)\n",
    "    \n",
    "    for k in range(N*shells):\n",
    "        plt.scatter(x[k][i],y[k][i],color='green',label='m')"
   ]
  },
  {
   "cell_type": "markdown",
   "metadata": {},
   "source": [
    "The below function simply interacts with plot_motion as a means to plot the motion for all values of time. This will eventually be replaced with a smooth video."
   ]
  },
  {
   "cell_type": "code",
   "execution_count": 169,
   "metadata": {
    "collapsed": false
   },
   "outputs": [
    {
     "data": {
      "image/png": "[encoded data removed]",
      "text/plain": [
       "<matplotlib.figure.Figure at 0x7fce171e4320>"
      ]
     },
     "metadata": {},
     "output_type": "display_data"
    }
   ],
   "source": [
    "interact(plot_motion,i=[0,t.size-1]);"
   ]
  },
  {
   "cell_type": "markdown",
   "metadata": {},
   "source": [
    "## Energy of the Orbit"
   ]
  },
  {
   "cell_type": "markdown",
   "metadata": {},
   "source": [
    "$$ E = T + U = \\frac{1}{2} S v^2 -\\frac{\\gamma M S}{R} $$\n",
    "\n",
    "M: mass of the central galaxy\n",
    "\n",
    "S: mass of the disrupting galaxy\n",
    "\n",
    "v: velocity fo the disrupting galaxy\n",
    "\n",
    "R: radial distance of central galaxy to disrupting galaxy\n",
    "\n",
    "$ \\gamma:$ gravitational constant "
   ]
  },
  {
   "cell_type": "markdown",
   "metadata": {},
   "source": [
    "energy() returns an array of energy values at the time values defined in t (the array) and is defined by the above formula. Note how we are ignoring contribution of the stars."
   ]
  },
  {
   "cell_type": "code",
   "execution_count": 170,
   "metadata": {
    "collapsed": false
   },
   "outputs": [],
   "source": [
    "def energy():\n",
    "    x,dx,y,dy,X,dX,Y,dY = get_solution()\n",
    "    \n",
    "    kinetic = 0.5*S*(dX**2+dY**2)  \n",
    "    potential = -gamma*M*S/np.sqrt((X**2+Y**2))\n",
    "    E = (kinetic + potential)\n",
    "    \n",
    "    return E"
   ]
  },
  {
   "cell_type": "markdown",
   "metadata": {},
   "source": [
    "The below cell plots the energy as a function of time. "
   ]
  },
  {
   "cell_type": "code",
   "execution_count": 172,
   "metadata": {
    "collapsed": false
   },
   "outputs": [
    {
     "name": "stdout",
     "output_type": "stream",
     "text": [
      "The percent difference between maximum energy value and minimum energy value is...\n",
      "0.047618417077\n"
     ]
    },
    {
     "data": {
      "image/png": "[encoded data removed]",
      "text/plain": [
       "<matplotlib.figure.Figure at 0x7fce17219d68>"
      ]
     },
     "metadata": {},
     "output_type": "display_data"
    }
   ],
   "source": [
    "plt.figure(figsize=(10,8))\n",
    "plt.title(\"Energy vs. Time\")\n",
    "plt.ylabel(\"Energy\")\n",
    "plt.xlabel(\"Time\")\n",
    "\n",
    "E = energy()\n",
    "plt.plot(t,E)\n",
    "plt.ylim(E.min(),E.max())\n",
    "diff = abs(E.max() - E.min())/abs(E.max())*100\n",
    "print(\"The percent difference between maximum energy value and minimum energy value is...\")\n",
    "print(diff)"
   ]
  },
  {
   "cell_type": "code",
   "execution_count": null,
   "metadata": {
    "collapsed": true
   },
   "outputs": [],
   "source": []
  }
 ],
 "metadata": {
  "kernelspec": {
   "display_name": "Python 3",
   "language": "python",
   "name": "python3"
  },
  "language_info": {
   "codemirror_mode": {
    "name": "ipython",
    "version": 3
   },
   "file_extension": ".py",
   "mimetype": "text/x-python",
   "name": "python",
   "nbconvert_exporter": "python",
   "pygments_lexer": "ipython3",
   "version": "3.4.0"
  }
 },
 "nbformat": 4,
 "nbformat_minor": 0
}
