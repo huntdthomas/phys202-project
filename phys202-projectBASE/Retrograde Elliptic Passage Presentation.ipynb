{
 "cells": [
  {
   "cell_type": "code",
   "execution_count": 1,
   "metadata": {
    "collapsed": false
   },
   "outputs": [
    {
     "name": "stderr",
     "output_type": "stream",
     "text": [
      ":0: FutureWarning: IPython widgets are experimental and may change in the future.\n",
      "WARNING:py.warnings:/usr/local/lib/python3.4/dist-packages/skimage/filter/__init__.py:6: skimage_deprecation: The `skimage.filter` module has been renamed to `skimage.filters`.  This placeholder module will be removed in v0.13.\n",
      "  warn(skimage_deprecation('The `skimage.filter` module has been renamed '\n",
      "\n"
     ]
    }
   ],
   "source": [
    "%matplotlib inline\n",
    "import matplotlib.pyplot as plt\n",
    "\n",
    "import pandas as pd\n",
    "import pymc as mc\n",
    "from matplotlib import animation\n",
    "\n",
    "import numpy as np\n",
    "import seaborn as sns\n",
    "from scipy.integrate import odeint\n",
    "from IPython.html.widgets import interact, fixed\n",
    "\n",
    "from moviepy.video.io.bindings import mplfig_to_npimage\n",
    "import moviepy.editor as mpy\n",
    "\n",
    "import SolverRetrogradeElliptic as Sol\n",
    "from SolverRetrogradeElliptic import *\n",
    "\n",
    "import PlotterRetrogradeElliptic as Plotter\n",
    "from PlotterRetrogradeElliptic import *"
   ]
  },
  {
   "cell_type": "markdown",
   "metadata": {},
   "source": [
    "## Abstract"
   ]
  },
  {
   "cell_type": "markdown",
   "metadata": {},
   "source": [
    "This notebook contains a mathematical description of the collision of two galaxies, one with several orbiting stars, as described by classical mechanics. The motion will be plotted at several values of time starting from some set of initial conditions. The situations modelled will be as follows: one case of retrograde passage and one case of direct passage. To model these a set of differential equations is defined and solved using Python's \"odeint\" solver. The solutions are the position and velocities of the distrupting galaxy and stars, which are saved into an array. To verify the correctness of the solution, the energy is plotted as a function of time to ensure that energy is conserved. "
   ]
  },
  {
   "cell_type": "markdown",
   "metadata": {},
   "source": [
    "## Base Question"
   ]
  },
  {
   "cell_type": "markdown",
   "metadata": {},
   "source": [
    "The base question that this notebook explores is the mechanics of direct or retrograde passage of two massive point particles (galaxies). The difference between these two situations is the relative spin of the stars on the initial galaxy and the velocity of the disrupting galaxy. Retrograde passage is the case where the stars spin in a direction opposite to the motion of the disrupting galaxy, whilst direct passage has these velocities in the same orientation. In both cases the disrupting galaxy acts on the stars as well as the initial galaxy, disrupting their motions. The task is to plot the motion of all these bodies, and as a check, their energies. If energy is conserved, and the two galaxies are shown to interact, then it is concluded that the code accurately describes the interaction between two massie galaxies."
   ]
  },
  {
   "cell_type": "markdown",
   "metadata": {},
   "source": [
    "## Additional Questions"
   ]
  },
  {
   "cell_type": "markdown",
   "metadata": {},
   "source": [
    "Additionally, this notebook will explore specific cases of direct passage of a heavy mass disruptor in an elliptical orbit and, secondly, retrograde passage of same mass disruptor in a parabolic orbit."
   ]
  },
  {
   "cell_type": "markdown",
   "metadata": {},
   "source": [
    "## Equations of Motion"
   ]
  },
  {
   "cell_type": "markdown",
   "metadata": {},
   "source": [
    "$$ \\ddot{\\mathbf{r}} = -\\gamma \\left\\{ \\frac{M}{r^3}\\mathbf{r} -\\frac{S}{\\rho^3}\\boldsymbol{\\rho} + \\frac{S}{R^3}\\boldsymbol\\Re \\right\\} $$\n",
    "\n",
    "$$ \\ddot{\\boldsymbol\\Re} = -\\gamma \\frac{M+S}{R^3}\\boldsymbol\\Re$$"
   ]
  },
  {
   "cell_type": "markdown",
   "metadata": {},
   "source": [
    "where \n",
    "\n",
    "* $\\gamma$ is the Gravitational constant.\n",
    "* $M$ is the central mass of the main galaxy and $S$ is the central mass of the disrupting galaxy\n",
    "* $\\mathbf{r}$ is the radius vector from mass $M$ to massless point particle $m$, representing a single (massless) star in the outer disk of the main galaxy.\n",
    "* $\\boldsymbol\\Re$ is the radius vector from $M$ to $S$\n",
    "* $\\boldsymbol{\\rho} = \\boldsymbol{\\Re} - \\boldsymbol{r}$"
   ]
  },
  {
   "cell_type": "markdown",
   "metadata": {},
   "source": [
    "## Velocity for a Circular Orbit"
   ]
  },
  {
   "cell_type": "markdown",
   "metadata": {},
   "source": [
    "$$ v = \\sqrt\\frac{\\gamma M}{r} $$\n",
    "\n",
    "$ \\gamma $ : The gravitational constant \n",
    "\n",
    "M : The mass of the central galaxy \n",
    "\n",
    "r : the radial distance of the star to the galaxy"
   ]
  },
  {
   "cell_type": "markdown",
   "metadata": {},
   "source": [
    "#Velocity for Elliptic Passage"
   ]
  },
  {
   "cell_type": "markdown",
   "metadata": {},
   "source": [
    "$$ v = \\sqrt{\\gamma (M+S)(\\frac{2}{r} - \\frac{1}{a})} $$\n",
    "\n",
    "$ \\gamma $ : The gravitational constant \n",
    "\n",
    "M : The mass of the central galaxy \n",
    "\n",
    "r : the radial distance of the star to the galaxy\n",
    "\n",
    "a : the semi-major axis"
   ]
  },
  {
   "cell_type": "markdown",
   "metadata": {},
   "source": [
    "#calling get_solution(), plotcom(), or plot() will take >1m.\n",
    "#To avoid this use the following (uncommented (!#)) code which reads from saved data "
   ]
  },
  {
   "cell_type": "markdown",
   "metadata": {},
   "source": [
    "#Get Solution"
   ]
  },
  {
   "cell_type": "code",
   "execution_count": 2,
   "metadata": {
    "collapsed": false
   },
   "outputs": [],
   "source": [
    "#soln = get_solution(parabolic,Direct,Sy)\n",
    "#x,dx,y,dy,X,dX,Y,dY = soln\n",
    "#Save(parabolic,Direct,Sy)\n",
    "\n",
    "soln = np.load(\"EllipRetro.npz\")\n",
    "x, dx, y, dy, X, dX, Y, dY = soln['x'], soln['dx'], soln['y'], soln['dy'], soln['X'], soln['dX'], soln['Y'], soln['dY']"
   ]
  },
  {
   "cell_type": "markdown",
   "metadata": {},
   "source": [
    "#Plot Solution"
   ]
  },
  {
   "cell_type": "code",
   "execution_count": null,
   "metadata": {
    "collapsed": false
   },
   "outputs": [],
   "source": [
    "#plotcom()\n",
    "#plot()\n",
    "\n",
    "#this is the sell that takes the longest. it regenerates the .mp4 files."
   ]
  },
  {
   "cell_type": "markdown",
   "metadata": {},
   "source": [
    "#Plots Motion Relative to Central Galaxy"
   ]
  },
  {
   "cell_type": "code",
   "execution_count": null,
   "metadata": {
    "collapsed": false,
    "scrolled": false
   },
   "outputs": [
    {
     "name": "stdout",
     "output_type": "stream",
     "text": [
      "|######----| 787/1251  62% [elapsed: 00:05 left: 00:02, 156.49 iters/sec]"
     ]
    }
   ],
   "source": [
    "animation = mpy.VideoFileClip(\"Retrograde Elliptic Passage.mp4\")\n",
    "animation.ipython_display(fps=50)"
   ]
  },
  {
   "cell_type": "markdown",
   "metadata": {},
   "source": [
    "#Plots Motion Relative to Center of Mass"
   ]
  },
  {
   "cell_type": "code",
   "execution_count": null,
   "metadata": {
    "collapsed": false
   },
   "outputs": [],
   "source": [
    "animation2 = mpy.VideoFileClip(\"Retrograde Elliptic Passage COM.mp4\")\n",
    "animation2.ipython_display(fps=50)"
   ]
  },
  {
   "cell_type": "markdown",
   "metadata": {},
   "source": [
    "## Energy of the Orbit"
   ]
  },
  {
   "cell_type": "markdown",
   "metadata": {},
   "source": [
    "$$ E = T + U = \\frac{1}{2} S v^2 -\\frac{\\gamma M S}{R} $$\n",
    "\n",
    "M: mass of the central galaxy\n",
    "\n",
    "S: mass of the disrupting galaxy\n",
    "\n",
    "v: velocity fo the disrupting galaxy\n",
    "\n",
    "R: radial distance of central galaxy to disrupting galaxy\n",
    "\n",
    "$ \\gamma:$ gravitational constant "
   ]
  },
  {
   "cell_type": "markdown",
   "metadata": {},
   "source": [
    "energy() returns an array of energy values at the time values defined in t (the array) and is defined by the above formula. Note how we are ignoring contribution of the stars."
   ]
  },
  {
   "cell_type": "markdown",
   "metadata": {},
   "source": [
    "The below cell plots the energy as a function of time. "
   ]
  },
  {
   "cell_type": "code",
   "execution_count": null,
   "metadata": {
    "collapsed": false,
    "scrolled": false
   },
   "outputs": [],
   "source": [
    "plt.ioff();\n",
    "\n",
    "plt.figure(figsize=(10,8));\n",
    "plt.title(\"Energy vs. Time\");\n",
    "plt.ylabel(\"Energy\");\n",
    "plt.xlabel(\"Time\");\n",
    "plt.ion();\n",
    "E = energy(parabolic,Direct,Sy);\n",
    "plt.plot(t,E);\n",
    "plt.ylim(E.min(),E.max());\n",
    "diff = abs(E.max() - E.min())/abs(E.max())*100\n",
    "print(\"\\n\")\n",
    "print(\"The percent difference between maximum energy value and minimum energy value is...\")\n",
    "print(diff)"
   ]
  },
  {
   "cell_type": "markdown",
   "metadata": {},
   "source": [
    "#Citations"
   ]
  },
  {
   "cell_type": "markdown",
   "metadata": {
    "collapsed": true
   },
   "source": [
    "Toomre, A., & Toomre, J. (n.d). Galactic Bridges and Tails. ApJL ApJ The Astrophysical Journal, 623-623\n",
    "\n",
    "Taylor, J. (2005). Classical Mechanics. Sausalito, Calif.: University Science Books."
   ]
  },
  {
   "cell_type": "code",
   "execution_count": null,
   "metadata": {
    "collapsed": true
   },
   "outputs": [],
   "source": []
  }
 ],
 "metadata": {
  "kernelspec": {
   "display_name": "Python 3",
   "language": "python",
   "name": "python3"
  },
  "language_info": {
   "codemirror_mode": {
    "name": "ipython",
    "version": 3
   },
   "file_extension": ".py",
   "mimetype": "text/x-python",
   "name": "python",
   "nbconvert_exporter": "python",
   "pygments_lexer": "ipython3",
   "version": "3.4.0"
  }
 },
 "nbformat": 4,
 "nbformat_minor": 0
}
